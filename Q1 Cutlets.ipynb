{
  "cells": [
    {
      "cell_type": "code",
      "execution_count": null,
      "metadata": {
        "id": "KAhQOci27Eqm"
      },
      "outputs": [],
      "source": [
        "import pandas as pd\n",
        "import numpy as np\n",
        "from scipy import stats"
      ]
    },
    {
      "cell_type": "code",
      "execution_count": null,
      "metadata": {
        "id": "rWD_LKJi9Zmp"
      },
      "outputs": [],
      "source": [
        "Data = pd.read_csv(\"/content/Cutlets.csv\")\n",
        "Data"
      ]
    },
    {
      "cell_type": "code",
      "execution_count": null,
      "metadata": {
        "id": "xGGbFHih9yIY"
      },
      "outputs": [],
      "source": [
        "Data.mean()"
      ]
    },
    {
      "cell_type": "code",
      "execution_count": null,
      "metadata": {
        "id": "SSjuP6tb95jU"
      },
      "outputs": [],
      "source": [
        "Unit_A = pd.Series(Data.iloc[:,0])\n",
        "Unit_A"
      ]
    },
    {
      "cell_type": "code",
      "execution_count": null,
      "metadata": {
        "id": "_v4XvCNx-vIQ"
      },
      "outputs": [],
      "source": [
        "Unit_B = pd.Series(Data.iloc[:,1])\n",
        "Unit_B"
      ]
    },
    {
      "cell_type": "code",
      "source": [
        "p_value = stats.ttest_ind(Unit_A,Unit_B)\n",
        "p_value"
      ],
      "metadata": {
        "id": "yCPETvgU_MUX"
      },
      "execution_count": null,
      "outputs": []
    },
    {
      "cell_type": "code",
      "source": [
        "if p_value[1] <0.05:\n",
        "  print('we reject null hypothesis')\n",
        "else:\n",
        "  print('we accept null hypothesis')"
      ],
      "metadata": {
        "id": "ZjfP8Lft2S6p"
      },
      "execution_count": null,
      "outputs": []
    },
    {
      "cell_type": "code",
      "source": [
        "# Inference is that there is no significant difference in the diameters of Unit A and Unit B"
      ],
      "metadata": {
        "id": "f2NMS1R6FAk1"
      },
      "execution_count": null,
      "outputs": []
    },
    {
      "cell_type": "code",
      "source": [
        ""
      ],
      "metadata": {
        "id": "iBHteMV1FUdT"
      },
      "execution_count": null,
      "outputs": []
    }
  ],
  "metadata": {
    "colab": {
      "name": "Assi_Hypothesis_Q1.ipynb",
      "provenance": [],
      "collapsed_sections": []
    },
    "kernelspec": {
      "display_name": "Python 3",
      "name": "python3"
    },
    "language_info": {
      "name": "python"
    }
  },
  "nbformat": 4,
  "nbformat_minor": 0
}