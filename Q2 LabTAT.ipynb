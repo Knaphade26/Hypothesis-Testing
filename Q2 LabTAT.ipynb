{
  "nbformat": 4,
  "nbformat_minor": 0,
  "metadata": {
    "colab": {
      "name": "Assi_Hypothesis_Q2.ipynb",
      "provenance": [],
      "collapsed_sections": []
    },
    "kernelspec": {
      "name": "python3",
      "display_name": "Python 3"
    },
    "language_info": {
      "name": "python"
    }
  },
  "cells": [
    {
      "cell_type": "code",
      "execution_count": null,
      "metadata": {
        "id": "WqNrA9cqF26x"
      },
      "outputs": [],
      "source": [
        "import pandas as pd\n",
        "import numpy as np\n",
        "from scipy import stats"
      ]
    },
    {
      "cell_type": "code",
      "source": [
        "Data = pd.read_csv(\"/content/LabTAT.csv\")\n",
        "Data"
      ],
      "metadata": {
        "id": "7kDtVgKhGF33"
      },
      "execution_count": null,
      "outputs": []
    },
    {
      "cell_type": "code",
      "source": [
        "Data.mean()"
      ],
      "metadata": {
        "id": "5Ty3fwOYGZKW"
      },
      "execution_count": null,
      "outputs": []
    },
    {
      "cell_type": "code",
      "source": [
        "p_value = stats.f_oneway(Data.iloc[:,0],Data.iloc[:,1],Data.iloc[:,2],Data.iloc[:,3])\n",
        "p_value"
      ],
      "metadata": {
        "id": "SK-WWc67GeUr"
      },
      "execution_count": null,
      "outputs": []
    },
    {
      "cell_type": "code",
      "source": [
        "if p_value[1] > 0.05:\n",
        "  print('Accept Null Hypothesis')\n",
        "else:\n",
        "  print('Reject Null Hypothesis')"
      ],
      "metadata": {
        "id": "tJ958LfXHQgg"
      },
      "execution_count": null,
      "outputs": []
    },
    {
      "cell_type": "code",
      "source": [
        "# Inference is that there is some significant difference in the average TAT for all the labs."
      ],
      "metadata": {
        "id": "yhfNn9pC083f"
      },
      "execution_count": null,
      "outputs": []
    },
    {
      "cell_type": "code",
      "source": [
        ""
      ],
      "metadata": {
        "id": "otn1WFPJ3-UJ"
      },
      "execution_count": null,
      "outputs": []
    }
  ]
}